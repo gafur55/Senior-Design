{
  "nbformat": 4,
  "nbformat_minor": 0,
  "metadata": {
    "colab": {
      "provenance": [],
      "authorship_tag": "ABX9TyNAqGa+7V/dOdgSX/XvCIds",
      "include_colab_link": true
    },
    "kernelspec": {
      "name": "python3",
      "display_name": "Python 3"
    },
    "language_info": {
      "name": "python"
    }
  },
  "cells": [
    {
      "cell_type": "markdown",
      "metadata": {
        "id": "view-in-github",
        "colab_type": "text"
      },
      "source": [
        "<a href=\"https://colab.research.google.com/github/gafur55/Senior-Design/blob/main/senior_prj_data_process.ipynb\" target=\"_parent\"><img src=\"https://colab.research.google.com/assets/colab-badge.svg\" alt=\"Open In Colab\"/></a>"
      ]
    },
    {
      "cell_type": "code",
      "source": [
        "import zipfile\n",
        "import os\n",
        "import cv2\n",
        "import matplotlib.pyplot as plt\n",
        "from PIL import Image\n",
        "import numpy as np"
      ],
      "metadata": {
        "id": "Jt4CYZw18vBI"
      },
      "execution_count": null,
      "outputs": []
    },
    {
      "cell_type": "code",
      "execution_count": null,
      "metadata": {
        "collapsed": true,
        "id": "tjtIQb1m6O5U"
      },
      "outputs": [],
      "source": [
        "from google.colab import files\n",
        "uploaded = files.upload()\n"
      ]
    },
    {
      "cell_type": "code",
      "source": [
        "\n",
        "# Unzip the uploaded file\n",
        "with zipfile.ZipFile('Strawberry-chobani.zip', 'r') as zip_ref:\n",
        "    zip_ref.extractall('/content/strawberry-chobani')\n",
        "\n",
        "# Check if the images are extracted\n",
        "os.listdir('/content/strawberry-chobani/Strawberry-chobani')\n"
      ],
      "metadata": {
        "collapsed": true,
        "id": "QGcxrzRl67lH"
      },
      "execution_count": null,
      "outputs": []
    },
    {
      "source": [
        "!pip install pillow-heif\n",
        "from pillow_heif import register_heif_opener\n",
        "\n",
        "# Path to the folder containing the images\n",
        "image_folder = '/content/strawberry-chobani/Strawberry-chobani'\n",
        "\n",
        "# Loop through all images in the folder\n",
        "for filename in os.listdir(image_folder):\n",
        "    if filename.endswith(\".jpg\") or filename.endswith(\".HEIC\"):\n",
        "        img_path = os.path.join(image_folder, filename)\n",
        "        # Load the image using Pillow if it's a HEIC file\n",
        "        if filename.endswith(\".HEIC\"):\n",
        "            register_heif_opener() # this line will register support for HEIC\n",
        "            img = Image.open(img_path)\n",
        "            # Convert to RGB and then to a NumPy array that OpenCV can use\n",
        "            img = img.convert('RGB')\n",
        "            img = cv2.cvtColor(np.array(img), cv2.COLOR_RGB2BGR)\n",
        "        else:\n",
        "            # Load the image using OpenCV if it's a JPG file\n",
        "            img = cv2.imread(img_path)\n",
        "\n",
        "        # Check if the image was loaded successfully\n",
        "        if img is not None:\n",
        "          img_rgb = cv2.cvtColor(img, cv2.COLOR_BGR2RGB)  # Convert BGR to RGB for display\n",
        "\n",
        "          # Display the image\n",
        "          plt.imshow(img_rgb)\n",
        "          plt.axis('off')\n",
        "          plt.show()\n",
        "        else:\n",
        "          print(f\"Failed to load image: {filename}\")"
      ],
      "cell_type": "code",
      "metadata": {
        "id": "gvHVHP5y-JzG"
      },
      "execution_count": null,
      "outputs": []
    },
    {
      "cell_type": "code",
      "source": [
        "from tensorflow.keras.preprocessing.image import ImageDataGenerator\n",
        "import tensorflow as tf\n",
        "\n",
        "# Create ImageDataGenerator for augmentation\n",
        "datagen = ImageDataGenerator(\n",
        "    rotation_range=40,\n",
        "    width_shift_range=0.2,\n",
        "    height_shift_range=0.2,\n",
        "    shear_range=0.2,\n",
        "    zoom_range=0.2,\n",
        "    horizontal_flip=True,\n",
        "    fill_mode='nearest'\n",
        ")\n",
        "\n",
        "# Load and augment images from the folder\n",
        "for filename in os.listdir(image_folder):\n",
        "    if filename.endswith(\".jpg\") or filename.endswith(\".HEIC\"):\n",
        "        img_path = os.path.join(image_folder, filename)\n",
        "        # Load the image using Pillow if it's a HEIC file\n",
        "        if filename.endswith(\".HEIC\"):\n",
        "            register_heif_opener() # this line will register support for HEIC\n",
        "            img = Image.open(img_path)\n",
        "        img_array = tf.keras.preprocessing.image.img_to_array(img)  # Convert image to array\n",
        "        img_array = img_array.reshape((1,) + img_array.shape)  # Reshape to add batch dimension\n",
        "\n",
        "        # Generate and save augmented images\n",
        "        i = 0\n",
        "        for batch in datagen.flow(img_array, batch_size=1, save_to_dir='/content/strawberry-chobani/Strawberry-chobani', save_prefix='aug', save_format='HEIC'):\n",
        "            i += 1\n",
        "            if i > 5:  # Generate 5 augmented images per original image\n",
        "                break\n"
      ],
      "metadata": {
        "id": "jU2JUjLS_Jdo"
      },
      "execution_count": null,
      "outputs": []
    }
  ]
}